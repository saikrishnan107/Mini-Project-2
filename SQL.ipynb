{
 "cells": [
  {
   "cell_type": "code",
   "execution_count": 1,
   "id": "02721ab7",
   "metadata": {},
   "outputs": [],
   "source": [
    "import pandas as pd\n",
    "import mysql.connector"
   ]
  },
  {
   "cell_type": "code",
   "execution_count": 3,
   "id": "e8546c8b",
   "metadata": {},
   "outputs": [
    {
     "name": "stdout",
     "output_type": "stream",
     "text": [
      "Data_Base Created Successfully\n"
     ]
    }
   ],
   "source": [
    "connection = mysql.connector.connect(\n",
    "    host='localhost',\n",
    "    user='root',\n",
    "    password='12345'\n",
    ")\n",
    "connection.autocommit=True\n",
    "cursor=connection.cursor()\n",
    "data_base=(\"Create database bird\")\n",
    "cursor.execute(data_base)\n",
    "print(\"Data_Base Created Successfully\")\n",
    "cursor.close()\n",
    "connection.close()"
   ]
  },
  {
   "cell_type": "code",
   "execution_count": 5,
   "id": "a8364dbc",
   "metadata": {},
   "outputs": [
    {
     "name": "stdout",
     "output_type": "stream",
     "text": [
      "Data base created\n"
     ]
    }
   ],
   "source": [
    "connection = mysql.connector.connect(\n",
    "    host='localhost',\n",
    "    user='root',\n",
    "    password='12345',\n",
    "    database='bird'\n",
    ")\n",
    "\n",
    "connection.autocommit=True\n",
    "\n",
    "cursor = connection.cursor()\n",
    "data_base=(\"use bird\")\n",
    "cursor.execute(data_base)\n",
    "print(\"Data base created\")"
   ]
  },
  {
   "cell_type": "code",
   "execution_count": 6,
   "id": "c807ffad",
   "metadata": {},
   "outputs": [
    {
     "name": "stdout",
     "output_type": "stream",
     "text": [
      "Data Uploaded Successfully\n"
     ]
    }
   ],
   "source": [
    "\n",
    "cursor.execute(\"\"\" \n",
    "CREATE TABLE forest (\n",
    "    Admin_Unit_Code VARCHAR(10),\n",
    "    Site_Name VARCHAR(255),\n",
    "    Plot_Name VARCHAR(255),\n",
    "    Location_Type VARCHAR(50),\n",
    "    Year INT,\n",
    "    Date DATE,\n",
    "    Start_Time TIME,\n",
    "    End_Time TIME,\n",
    "    Observer VARCHAR(255),\n",
    "    Visit INT,\n",
    "    Interval_Length VARCHAR(100),\n",
    "    ID_Method VARCHAR(100),\n",
    "    Distance VARCHAR(100),\n",
    "    Flyover_Observed BOOLEAN,\n",
    "    Sex VARCHAR(100),\n",
    "    Common_Name VARCHAR(100),\n",
    "    Scientific_Name VARCHAR (100),\n",
    "    AcceptedTSN FLOAT,\n",
    "    NPSTaxonCode INT,\n",
    "    AOU_Code VARCHAR(10),\n",
    "    PIF_Watchlist_Status BOOLEAN,\n",
    "    Regional_Stewardship_Status BOOLEAN,\n",
    "    Temperature FLOAT,\n",
    "    Humidity FLOAT,\n",
    "    Sky VARCHAR(100),\n",
    "    Wind VARCHAR(100),\n",
    "    Disturbance VARCHAR(255),\n",
    "    Initial_Three_Min_Cnt BOOLEAN\n",
    ");\n",
    "\"\"\")\n",
    "print(\"Data Uploaded Successfully\")\n"
   ]
  },
  {
   "cell_type": "code",
   "execution_count": 7,
   "id": "b1ae7040",
   "metadata": {},
   "outputs": [
    {
     "name": "stdout",
     "output_type": "stream",
     "text": [
      "Data uploaded Successfully\n"
     ]
    }
   ],
   "source": [
    "cursor.execute(\"\"\"\n",
    "CREATE TABLE grassland (\n",
    "    Admin_Unit_Code VARCHAR(10),\n",
    "    Plot_Name VARCHAR(255),\n",
    "    Location_Type VARCHAR(50),\n",
    "    Year INT,\n",
    "    Date DATE,\n",
    "    Start_Time TIME,\n",
    "    End_Time TIME,\n",
    "    Observer VARCHAR(255),\n",
    "    Visit INT,\n",
    "    Interval_Length VARCHAR(100),\n",
    "    ID_Method VARCHAR(100),\n",
    "    Distance VARCHAR(100),\n",
    "    Flyover_Observed BOOLEAN,\n",
    "    Sex VARCHAR(100),\n",
    "    Common_Name VARCHAR (100),\n",
    "    Scientific_Name VARCHAR(100),\n",
    "    AcceptedTSN FLOAT,\n",
    "    TaxonCode FLOAT,\n",
    "    AOU_Code VARCHAR(10),\n",
    "    PIF_Watchlist_Status BOOLEAN,\n",
    "    Regional_Stewardship_Status BOOLEAN,\n",
    "    Temperature FLOAT,\n",
    "    Humidity FLOAT,\n",
    "    Sky VARCHAR(100),\n",
    "    Wind VARCHAR(100),\n",
    "    Disturbance VARCHAR(255),\n",
    "    Previously_Obs BOOLEAN,\n",
    "    Initial_Three_Min_Cnt BOOLEAN\n",
    ");\n",
    "\"\"\")\n",
    "print(\"Data uploaded Successfully\")"
   ]
  },
  {
   "cell_type": "code",
   "execution_count": 9,
   "id": "0e5870ce",
   "metadata": {},
   "outputs": [],
   "source": [
    "forest=pd.read_csv('c:\\\\Users\\\\Sai Krishnan\\\\OneDrive\\\\Desktop\\\\ML Program\\\\Bird Species Observation Analysis in Forest and Grassland Ecosystem\\\\forest.csv')\n",
    "grass=pd.read_csv('c:\\\\Users\\\\Sai Krishnan\\\\OneDrive\\\\Desktop\\\\ML Program\\\\Bird Species Observation Analysis in Forest and Grassland Ecosystem\\\\Grass_Land.csv')"
   ]
  },
  {
   "cell_type": "code",
   "execution_count": 12,
   "id": "56a668a5",
   "metadata": {},
   "outputs": [
    {
     "name": "stdout",
     "output_type": "stream",
     "text": [
      "Forest data inserted successfully!\n"
     ]
    }
   ],
   "source": [
    "for index, row in forest.iterrows():\n",
    "    cursor.execute(\"\"\"\n",
    "        INSERT INTO forest (\n",
    "            Admin_Unit_Code, Site_Name, Plot_Name, Location_Type, Year, Date, Start_Time, End_Time, \n",
    "            Observer, Visit, Interval_Length, ID_Method, Distance, Flyover_Observed, Sex, Common_Name, \n",
    "            Scientific_Name, AcceptedTSN, NPSTaxonCode, AOU_Code, PIF_Watchlist_Status, \n",
    "            Regional_Stewardship_Status, Temperature, Humidity, Sky, Wind, Disturbance, Initial_Three_Min_Cnt\n",
    "        ) VALUES (%s, %s, %s, %s, %s, %s, %s, %s, %s, %s, %s, %s, %s, %s, %s, %s, %s, %s, %s, %s, \n",
    "                  %s, %s, %s, %s, %s, %s, %s, %s);\n",
    "    \"\"\", (\n",
    "        row[\"Admin_Unit_Code\"], row[\"Site_Name\"], row[\"Plot_Name\"], row[\"Location_Type\"], \n",
    "        row[\"Year\"], row[\"Date\"], row[\"Start_Time\"], row[\"End_Time\"], row[\"Observer\"], row[\"Visit\"], \n",
    "        row[\"Interval_Length\"], row[\"ID_Method\"], row[\"Distance\"], row[\"Flyover_Observed\"], row[\"Sex\"], \n",
    "        row[\"Common_Name\"], row[\"Scientific_Name\"], row[\"AcceptedTSN\"], row[\"NPSTaxonCode\"], row[\"AOU_Code\"], \n",
    "        row[\"PIF_Watchlist_Status\"], row[\"Regional_Stewardship_Status\"], row[\"Temperature\"], \n",
    "        row[\"Humidity\"], row[\"Sky\"], row[\"Wind\"], row[\"Disturbance\"], row[\"Initial_Three_Min_Cnt\"]\n",
    "    ))\n",
    "\n",
    "\n",
    "print(\"Forest data inserted successfully!\")"
   ]
  },
  {
   "cell_type": "code",
   "execution_count": 15,
   "id": "7d28c0cc",
   "metadata": {},
   "outputs": [
    {
     "name": "stdout",
     "output_type": "stream",
     "text": [
      "grass data inserted successfully!\n"
     ]
    }
   ],
   "source": [
    "for index, row in grass.iterrows():\n",
    "    cursor.execute(\"\"\"\n",
    "        INSERT INTO grassland (\n",
    "            Admin_Unit_Code, Plot_Name, Location_Type, Year, Date, Start_Time, End_Time, Observer, \n",
    "            Visit, Interval_Length, ID_Method, Distance, Flyover_Observed, Sex, Common_Name, \n",
    "            Scientific_Name, AcceptedTSN, TaxonCode, AOU_Code, PIF_Watchlist_Status, \n",
    "            Regional_Stewardship_Status, Temperature, Humidity, Sky, Wind, Disturbance, \n",
    "            Previously_Obs, Initial_Three_Min_Cnt\n",
    "        ) VALUES (%s, %s, %s, %s, %s, %s, %s, %s, %s, %s, %s, %s, %s, %s, %s, %s, %s, %s, \n",
    "                  %s, %s, %s, %s, %s, %s, %s, %s, %s, %s);\n",
    "    \"\"\", (\n",
    "        row[\"Admin_Unit_Code\"], row[\"Plot_Name\"], row[\"Location_Type\"], row[\"Year\"], \n",
    "        row[\"Date\"], row[\"Start_Time\"], row[\"End_Time\"], row[\"Observer\"], row[\"Visit\"], \n",
    "        row[\"Interval_Length\"], row[\"ID_Method\"], row[\"Distance\"], row[\"Flyover_Observed\"], \n",
    "        row[\"Sex\"], row[\"Common_Name\"], row[\"Scientific_Name\"], row[\"AcceptedTSN\"], \n",
    "        row[\"TaxonCode\"], row[\"AOU_Code\"], row[\"PIF_Watchlist_Status\"], \n",
    "        row[\"Regional_Stewardship_Status\"], row[\"Temperature\"], row[\"Humidity\"], \n",
    "        row[\"Sky\"], row[\"Wind\"], row[\"Disturbance\"], row[\"Previously_Obs\"], row[\"Initial_Three_Min_Cnt\"]\n",
    "    ))\n",
    "\n",
    "\n",
    "print(\"grass data inserted successfully!\")"
   ]
  }
 ],
 "metadata": {
  "kernelspec": {
   "display_name": "Python 3",
   "language": "python",
   "name": "python3"
  },
  "language_info": {
   "codemirror_mode": {
    "name": "ipython",
    "version": 3
   },
   "file_extension": ".py",
   "mimetype": "text/x-python",
   "name": "python",
   "nbconvert_exporter": "python",
   "pygments_lexer": "ipython3",
   "version": "3.10.11"
  }
 },
 "nbformat": 4,
 "nbformat_minor": 5
}
